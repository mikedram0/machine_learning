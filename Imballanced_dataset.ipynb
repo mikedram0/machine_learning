{
 "cells": [
  {
   "cell_type": "code",
   "execution_count": 3,
   "metadata": {
    "colab": {
     "base_uri": "https://localhost:8080/"
    },
    "id": "VfK4vWu35DoV",
    "outputId": "25104d27-9cca-45d8-e8bb-b77cc9dd792b"
   },
   "outputs": [
    {
     "name": "stdout",
     "output_type": "stream",
     "text": [
      "Mounted at /content/gdrive\n"
     ]
    }
   ],
   "source": [
    "from google.colab import drive\n",
    "\n",
    "drive.mount(\"/content/gdrive\")"
   ]
  },
  {
   "cell_type": "code",
   "execution_count": 4,
   "metadata": {
    "id": "td6cySmM51IC"
   },
   "outputs": [],
   "source": [
    "import numpy as np\n",
    "import pandas as pd\n",
    "\n",
    "train = pd.read_csv('/content/gdrive/MyDrive/Final253_2021(1)/pulsars_train_set.csv', delimiter=',')\n",
    "test = pd.read_csv('/content/gdrive/MyDrive/Final253_2021(1)/pulsars_test_set.csv', delimiter=',')"
   ]
  },
  {
   "cell_type": "code",
   "execution_count": 5,
   "metadata": {
    "colab": {
     "base_uri": "https://localhost:8080/",
     "height": 441
    },
    "id": "3qpNxe0V6R9Q",
    "outputId": "c42229bf-97e5-4559-c5a0-46c32a72acec"
   },
   "outputs": [
    {
     "data": {
      "text/html": [
       "<div>\n",
       "<style scoped>\n",
       "    .dataframe tbody tr th:only-of-type {\n",
       "        vertical-align: middle;\n",
       "    }\n",
       "\n",
       "    .dataframe tbody tr th {\n",
       "        vertical-align: top;\n",
       "    }\n",
       "\n",
       "    .dataframe thead th {\n",
       "        text-align: right;\n",
       "    }\n",
       "</style>\n",
       "<table border=\"1\" class=\"dataframe\">\n",
       "  <thead>\n",
       "    <tr style=\"text-align: right;\">\n",
       "      <th></th>\n",
       "      <th>Mean of the integrated profile</th>\n",
       "      <th>Standard deviation of the integrated profile</th>\n",
       "      <th>Excess kurtosis of the integrated profile</th>\n",
       "      <th>Skewness of the integrated profile</th>\n",
       "      <th>Mean of the DM-SNR curve</th>\n",
       "      <th>Standard deviation of the DM-SNR curve</th>\n",
       "      <th>Excess kurtosis of the DM-SNR curve</th>\n",
       "      <th>Skewness of the DM-SNR curve</th>\n",
       "      <th>target_class</th>\n",
       "    </tr>\n",
       "  </thead>\n",
       "  <tbody>\n",
       "    <tr>\n",
       "      <th>0</th>\n",
       "      <td>102.507812</td>\n",
       "      <td>58.882430</td>\n",
       "      <td>0.465318</td>\n",
       "      <td>-0.515088</td>\n",
       "      <td>1.677258</td>\n",
       "      <td>14.860146</td>\n",
       "      <td>10.576487</td>\n",
       "      <td>127.393580</td>\n",
       "      <td>0</td>\n",
       "    </tr>\n",
       "    <tr>\n",
       "      <th>1</th>\n",
       "      <td>103.015625</td>\n",
       "      <td>39.341649</td>\n",
       "      <td>0.323328</td>\n",
       "      <td>1.051164</td>\n",
       "      <td>3.121237</td>\n",
       "      <td>21.744669</td>\n",
       "      <td>7.735822</td>\n",
       "      <td>63.171909</td>\n",
       "      <td>0</td>\n",
       "    </tr>\n",
       "    <tr>\n",
       "      <th>2</th>\n",
       "      <td>88.726562</td>\n",
       "      <td>40.672225</td>\n",
       "      <td>0.600866</td>\n",
       "      <td>1.123492</td>\n",
       "      <td>1.178930</td>\n",
       "      <td>11.468720</td>\n",
       "      <td>14.269573</td>\n",
       "      <td>252.567306</td>\n",
       "      <td>0</td>\n",
       "    </tr>\n",
       "    <tr>\n",
       "      <th>3</th>\n",
       "      <td>119.484375</td>\n",
       "      <td>48.765059</td>\n",
       "      <td>0.031460</td>\n",
       "      <td>-0.112168</td>\n",
       "      <td>0.999164</td>\n",
       "      <td>9.279612</td>\n",
       "      <td>19.206230</td>\n",
       "      <td>479.756567</td>\n",
       "      <td>0</td>\n",
       "    </tr>\n",
       "    <tr>\n",
       "      <th>4</th>\n",
       "      <td>130.382812</td>\n",
       "      <td>39.844056</td>\n",
       "      <td>-0.158323</td>\n",
       "      <td>0.389540</td>\n",
       "      <td>1.220736</td>\n",
       "      <td>14.378941</td>\n",
       "      <td>13.539456</td>\n",
       "      <td>198.236457</td>\n",
       "      <td>0</td>\n",
       "    </tr>\n",
       "    <tr>\n",
       "      <th>...</th>\n",
       "      <td>...</td>\n",
       "      <td>...</td>\n",
       "      <td>...</td>\n",
       "      <td>...</td>\n",
       "      <td>...</td>\n",
       "      <td>...</td>\n",
       "      <td>...</td>\n",
       "      <td>...</td>\n",
       "      <td>...</td>\n",
       "    </tr>\n",
       "    <tr>\n",
       "      <th>12638</th>\n",
       "      <td>118.484375</td>\n",
       "      <td>50.608483</td>\n",
       "      <td>-0.029059</td>\n",
       "      <td>-0.027494</td>\n",
       "      <td>0.422241</td>\n",
       "      <td>8.086684</td>\n",
       "      <td>27.446113</td>\n",
       "      <td>830.638550</td>\n",
       "      <td>0</td>\n",
       "    </tr>\n",
       "    <tr>\n",
       "      <th>12639</th>\n",
       "      <td>96.000000</td>\n",
       "      <td>44.193113</td>\n",
       "      <td>0.388674</td>\n",
       "      <td>0.281344</td>\n",
       "      <td>1.871237</td>\n",
       "      <td>15.833746</td>\n",
       "      <td>9.634927</td>\n",
       "      <td>104.821623</td>\n",
       "      <td>0</td>\n",
       "    </tr>\n",
       "    <tr>\n",
       "      <th>12640</th>\n",
       "      <td>122.554688</td>\n",
       "      <td>49.485605</td>\n",
       "      <td>0.127978</td>\n",
       "      <td>0.323061</td>\n",
       "      <td>16.409699</td>\n",
       "      <td>44.626893</td>\n",
       "      <td>2.945244</td>\n",
       "      <td>8.297092</td>\n",
       "      <td>0</td>\n",
       "    </tr>\n",
       "    <tr>\n",
       "      <th>12641</th>\n",
       "      <td>119.335938</td>\n",
       "      <td>59.935939</td>\n",
       "      <td>0.159363</td>\n",
       "      <td>-0.743025</td>\n",
       "      <td>21.430602</td>\n",
       "      <td>58.872000</td>\n",
       "      <td>2.499517</td>\n",
       "      <td>4.595173</td>\n",
       "      <td>0</td>\n",
       "    </tr>\n",
       "    <tr>\n",
       "      <th>12642</th>\n",
       "      <td>57.062500</td>\n",
       "      <td>85.797340</td>\n",
       "      <td>1.406391</td>\n",
       "      <td>0.089520</td>\n",
       "      <td>188.306020</td>\n",
       "      <td>64.712562</td>\n",
       "      <td>-1.597527</td>\n",
       "      <td>1.429475</td>\n",
       "      <td>0</td>\n",
       "    </tr>\n",
       "  </tbody>\n",
       "</table>\n",
       "<p>12643 rows × 9 columns</p>\n",
       "</div>"
      ],
      "text/plain": [
       "       Mean of the integrated profile  ...  target_class\n",
       "0                          102.507812  ...             0\n",
       "1                          103.015625  ...             0\n",
       "2                           88.726562  ...             0\n",
       "3                          119.484375  ...             0\n",
       "4                          130.382812  ...             0\n",
       "...                               ...  ...           ...\n",
       "12638                      118.484375  ...             0\n",
       "12639                       96.000000  ...             0\n",
       "12640                      122.554688  ...             0\n",
       "12641                      119.335938  ...             0\n",
       "12642                       57.062500  ...             0\n",
       "\n",
       "[12643 rows x 9 columns]"
      ]
     },
     "execution_count": 5,
     "metadata": {
      "tags": []
     },
     "output_type": "execute_result"
    }
   ],
   "source": [
    "train"
   ]
  },
  {
   "cell_type": "code",
   "execution_count": 6,
   "metadata": {
    "colab": {
     "base_uri": "https://localhost:8080/",
     "height": 441
    },
    "id": "NaQgZwFC6qje",
    "outputId": "f952fa1e-75a1-4119-dda7-272680804413"
   },
   "outputs": [
    {
     "data": {
      "text/html": [
       "<div>\n",
       "<style scoped>\n",
       "    .dataframe tbody tr th:only-of-type {\n",
       "        vertical-align: middle;\n",
       "    }\n",
       "\n",
       "    .dataframe tbody tr th {\n",
       "        vertical-align: top;\n",
       "    }\n",
       "\n",
       "    .dataframe thead th {\n",
       "        text-align: right;\n",
       "    }\n",
       "</style>\n",
       "<table border=\"1\" class=\"dataframe\">\n",
       "  <thead>\n",
       "    <tr style=\"text-align: right;\">\n",
       "      <th></th>\n",
       "      <th>Mean of the integrated profile</th>\n",
       "      <th>Standard deviation of the integrated profile</th>\n",
       "      <th>Excess kurtosis of the integrated profile</th>\n",
       "      <th>Skewness of the integrated profile</th>\n",
       "      <th>Mean of the DM-SNR curve</th>\n",
       "      <th>Standard deviation of the DM-SNR curve</th>\n",
       "      <th>Excess kurtosis of the DM-SNR curve</th>\n",
       "      <th>Skewness of the DM-SNR curve</th>\n",
       "      <th>target_class</th>\n",
       "    </tr>\n",
       "  </thead>\n",
       "  <tbody>\n",
       "    <tr>\n",
       "      <th>0</th>\n",
       "      <td>140.562500</td>\n",
       "      <td>55.683782</td>\n",
       "      <td>-0.234571</td>\n",
       "      <td>-0.699648</td>\n",
       "      <td>3.199833</td>\n",
       "      <td>19.110426</td>\n",
       "      <td>7.975532</td>\n",
       "      <td>74.242225</td>\n",
       "      <td>0</td>\n",
       "    </tr>\n",
       "    <tr>\n",
       "      <th>1</th>\n",
       "      <td>136.750000</td>\n",
       "      <td>57.178449</td>\n",
       "      <td>-0.068415</td>\n",
       "      <td>-0.636238</td>\n",
       "      <td>3.642977</td>\n",
       "      <td>20.959280</td>\n",
       "      <td>6.896499</td>\n",
       "      <td>53.593661</td>\n",
       "      <td>0</td>\n",
       "    </tr>\n",
       "    <tr>\n",
       "      <th>2</th>\n",
       "      <td>93.570312</td>\n",
       "      <td>46.698114</td>\n",
       "      <td>0.531905</td>\n",
       "      <td>0.416721</td>\n",
       "      <td>1.636288</td>\n",
       "      <td>14.545074</td>\n",
       "      <td>10.621748</td>\n",
       "      <td>131.394004</td>\n",
       "      <td>0</td>\n",
       "    </tr>\n",
       "    <tr>\n",
       "      <th>3</th>\n",
       "      <td>107.250000</td>\n",
       "      <td>52.627078</td>\n",
       "      <td>0.452688</td>\n",
       "      <td>0.170347</td>\n",
       "      <td>2.331940</td>\n",
       "      <td>14.486853</td>\n",
       "      <td>9.001004</td>\n",
       "      <td>107.972506</td>\n",
       "      <td>0</td>\n",
       "    </tr>\n",
       "    <tr>\n",
       "      <th>4</th>\n",
       "      <td>138.179688</td>\n",
       "      <td>51.524484</td>\n",
       "      <td>-0.031852</td>\n",
       "      <td>0.046797</td>\n",
       "      <td>6.330268</td>\n",
       "      <td>31.576347</td>\n",
       "      <td>5.155940</td>\n",
       "      <td>26.143310</td>\n",
       "      <td>0</td>\n",
       "    </tr>\n",
       "    <tr>\n",
       "      <th>...</th>\n",
       "      <td>...</td>\n",
       "      <td>...</td>\n",
       "      <td>...</td>\n",
       "      <td>...</td>\n",
       "      <td>...</td>\n",
       "      <td>...</td>\n",
       "      <td>...</td>\n",
       "      <td>...</td>\n",
       "      <td>...</td>\n",
       "    </tr>\n",
       "    <tr>\n",
       "      <th>5250</th>\n",
       "      <td>89.453125</td>\n",
       "      <td>35.848827</td>\n",
       "      <td>0.731656</td>\n",
       "      <td>3.101474</td>\n",
       "      <td>1.450669</td>\n",
       "      <td>14.204964</td>\n",
       "      <td>11.203558</td>\n",
       "      <td>142.473878</td>\n",
       "      <td>0</td>\n",
       "    </tr>\n",
       "    <tr>\n",
       "      <th>5251</th>\n",
       "      <td>127.070312</td>\n",
       "      <td>47.663564</td>\n",
       "      <td>0.006552</td>\n",
       "      <td>-0.123634</td>\n",
       "      <td>0.853679</td>\n",
       "      <td>11.197206</td>\n",
       "      <td>16.122702</td>\n",
       "      <td>296.507738</td>\n",
       "      <td>0</td>\n",
       "    </tr>\n",
       "    <tr>\n",
       "      <th>5252</th>\n",
       "      <td>121.375000</td>\n",
       "      <td>53.245158</td>\n",
       "      <td>0.103772</td>\n",
       "      <td>-0.365119</td>\n",
       "      <td>1.095318</td>\n",
       "      <td>12.239976</td>\n",
       "      <td>16.258042</td>\n",
       "      <td>303.880023</td>\n",
       "      <td>0</td>\n",
       "    </tr>\n",
       "    <tr>\n",
       "      <th>5253</th>\n",
       "      <td>136.429688</td>\n",
       "      <td>59.847421</td>\n",
       "      <td>-0.187846</td>\n",
       "      <td>-0.738123</td>\n",
       "      <td>1.296823</td>\n",
       "      <td>12.166062</td>\n",
       "      <td>15.450260</td>\n",
       "      <td>285.931022</td>\n",
       "      <td>0</td>\n",
       "    </tr>\n",
       "    <tr>\n",
       "      <th>5254</th>\n",
       "      <td>114.507812</td>\n",
       "      <td>53.902400</td>\n",
       "      <td>0.201161</td>\n",
       "      <td>-0.024789</td>\n",
       "      <td>1.946488</td>\n",
       "      <td>13.381731</td>\n",
       "      <td>10.007967</td>\n",
       "      <td>134.238910</td>\n",
       "      <td>0</td>\n",
       "    </tr>\n",
       "  </tbody>\n",
       "</table>\n",
       "<p>5255 rows × 9 columns</p>\n",
       "</div>"
      ],
      "text/plain": [
       "      Mean of the integrated profile  ...  target_class\n",
       "0                         140.562500  ...             0\n",
       "1                         136.750000  ...             0\n",
       "2                          93.570312  ...             0\n",
       "3                         107.250000  ...             0\n",
       "4                         138.179688  ...             0\n",
       "...                              ...  ...           ...\n",
       "5250                       89.453125  ...             0\n",
       "5251                      127.070312  ...             0\n",
       "5252                      121.375000  ...             0\n",
       "5253                      136.429688  ...             0\n",
       "5254                      114.507812  ...             0\n",
       "\n",
       "[5255 rows x 9 columns]"
      ]
     },
     "execution_count": 6,
     "metadata": {
      "tags": []
     },
     "output_type": "execute_result"
    }
   ],
   "source": [
    "test"
   ]
  },
  {
   "cell_type": "code",
   "execution_count": 7,
   "metadata": {
    "id": "gIgovwDG7LqE"
   },
   "outputs": [],
   "source": [
    "x_train = np.array(train.drop(\"target_class\" , axis = 1))\n",
    "x_test = np.array(test.drop(\"target_class\" , axis = 1))\n",
    "\n",
    "y_train = np.array(train[\"target_class\"])\n",
    "y_test = np.array(test[\"target_class\"])"
   ]
  },
  {
   "cell_type": "code",
   "execution_count": 8,
   "metadata": {
    "id": "9C8sXk1b7aeh"
   },
   "outputs": [],
   "source": [
    "import numpy as np\n",
    "np.random.seed(42)\n",
    "\n",
    "import tensorflow as tf\n",
    "tf.random.set_seed(42)"
   ]
  },
  {
   "cell_type": "code",
   "execution_count": 8,
   "metadata": {
    "id": "aSiCQjad9Lf7"
   },
   "outputs": [],
   "source": []
  },
  {
   "cell_type": "code",
   "execution_count": 9,
   "metadata": {
    "colab": {
     "base_uri": "https://localhost:8080/"
    },
    "id": "Kx_jm0Bb7ftp",
    "outputId": "81d581b2-6690-42f7-82c8-8200f94213c7"
   },
   "outputs": [
    {
     "name": "stdout",
     "output_type": "stream",
     "text": [
      "Model: \"sequential\"\n",
      "_________________________________________________________________\n",
      "Layer (type)                 Output Shape              Param #   \n",
      "=================================================================\n",
      "dense (Dense)                (None, 100)               900       \n",
      "_________________________________________________________________\n",
      "dense_1 (Dense)              (None, 500)               50500     \n",
      "_________________________________________________________________\n",
      "dense_2 (Dense)              (None, 1000)              501000    \n",
      "_________________________________________________________________\n",
      "dense_3 (Dense)              (None, 1)                 1001      \n",
      "=================================================================\n",
      "Total params: 553,401\n",
      "Trainable params: 553,401\n",
      "Non-trainable params: 0\n",
      "_________________________________________________________________\n"
     ]
    }
   ],
   "source": [
    "from tensorflow.keras.models import Sequential\n",
    "from tensorflow.keras.layers import Dense\n",
    "from tensorflow.keras.optimizers import Adam\n",
    "\n",
    "model = Sequential()\n",
    "model.add(Dense(100, activation = \"relu\", input_shape = x_train.shape[1:]))\n",
    "model.add(Dense(500, activation = \"relu\"))\n",
    "model.add(Dense(1000, activation = \"relu\"))\n",
    "model.add(Dense(1, activation = \"sigmoid\"))\n",
    "\n",
    "model.compile( loss = \"binary_crossentropy\", metrics = [\"accuracy\"] ,optimizer = 'adam' )\n",
    "\n",
    "model.summary()\n"
   ]
  },
  {
   "cell_type": "code",
   "execution_count": 10,
   "metadata": {
    "colab": {
     "base_uri": "https://localhost:8080/"
    },
    "id": "BhH0xy5R9z-K",
    "outputId": "9645664d-094a-4ab2-b4cf-2686c4f477bd"
   },
   "outputs": [
    {
     "name": "stdout",
     "output_type": "stream",
     "text": [
      "Epoch 1/10\n",
      "396/396 [==============================] - 5s 4ms/step - loss: 0.5592 - accuracy: 0.9469 - val_loss: 0.0933 - val_accuracy: 0.9732\n",
      "Epoch 2/10\n",
      "396/396 [==============================] - 1s 3ms/step - loss: 0.0993 - accuracy: 0.9701 - val_loss: 0.0967 - val_accuracy: 0.9747\n",
      "Epoch 3/10\n",
      "396/396 [==============================] - 1s 3ms/step - loss: 0.0915 - accuracy: 0.9760 - val_loss: 0.0898 - val_accuracy: 0.9756\n",
      "Epoch 4/10\n",
      "396/396 [==============================] - 1s 3ms/step - loss: 0.0893 - accuracy: 0.9738 - val_loss: 0.0848 - val_accuracy: 0.9762\n",
      "Epoch 5/10\n",
      "396/396 [==============================] - 1s 3ms/step - loss: 0.0970 - accuracy: 0.9714 - val_loss: 0.0868 - val_accuracy: 0.9753\n",
      "Epoch 6/10\n",
      "396/396 [==============================] - 1s 3ms/step - loss: 0.0941 - accuracy: 0.9729 - val_loss: 0.0884 - val_accuracy: 0.9758\n",
      "Epoch 7/10\n",
      "396/396 [==============================] - 1s 3ms/step - loss: 0.0876 - accuracy: 0.9744 - val_loss: 0.0843 - val_accuracy: 0.9777\n",
      "Epoch 8/10\n",
      "396/396 [==============================] - 1s 3ms/step - loss: 0.0869 - accuracy: 0.9751 - val_loss: 0.0846 - val_accuracy: 0.9768\n",
      "Epoch 9/10\n",
      "396/396 [==============================] - 1s 3ms/step - loss: 0.0918 - accuracy: 0.9730 - val_loss: 0.0852 - val_accuracy: 0.9772\n",
      "Epoch 10/10\n",
      "396/396 [==============================] - 1s 3ms/step - loss: 0.0887 - accuracy: 0.9737 - val_loss: 0.0895 - val_accuracy: 0.9770\n"
     ]
    }
   ],
   "source": [
    "history = model.fit(x_train, y_train, epochs = 10, validation_data = (x_test, y_test))"
   ]
  },
  {
   "cell_type": "markdown",
   "metadata": {
    "id": "Pp-qoJHc_hob"
   },
   "source": [
    "We can see thet the accuracy is really high, but this is false. Due to the imballanced dataset, the model has learned to only predict 1 class. Let's make a balanced test dataset and test it."
   ]
  },
  {
   "cell_type": "code",
   "execution_count": 11,
   "metadata": {
    "colab": {
     "base_uri": "https://localhost:8080/",
     "height": 441
    },
    "id": "PmihsFJt_tl-",
    "outputId": "90a15034-30a8-4ee4-9198-424a2f6de998"
   },
   "outputs": [
    {
     "data": {
      "text/html": [
       "<div>\n",
       "<style scoped>\n",
       "    .dataframe tbody tr th:only-of-type {\n",
       "        vertical-align: middle;\n",
       "    }\n",
       "\n",
       "    .dataframe tbody tr th {\n",
       "        vertical-align: top;\n",
       "    }\n",
       "\n",
       "    .dataframe thead th {\n",
       "        text-align: right;\n",
       "    }\n",
       "</style>\n",
       "<table border=\"1\" class=\"dataframe\">\n",
       "  <thead>\n",
       "    <tr style=\"text-align: right;\">\n",
       "      <th></th>\n",
       "      <th>Mean of the integrated profile</th>\n",
       "      <th>Standard deviation of the integrated profile</th>\n",
       "      <th>Excess kurtosis of the integrated profile</th>\n",
       "      <th>Skewness of the integrated profile</th>\n",
       "      <th>Mean of the DM-SNR curve</th>\n",
       "      <th>Standard deviation of the DM-SNR curve</th>\n",
       "      <th>Excess kurtosis of the DM-SNR curve</th>\n",
       "      <th>Skewness of the DM-SNR curve</th>\n",
       "      <th>target_class</th>\n",
       "    </tr>\n",
       "  </thead>\n",
       "  <tbody>\n",
       "    <tr>\n",
       "      <th>6</th>\n",
       "      <td>99.367188</td>\n",
       "      <td>41.572202</td>\n",
       "      <td>1.547197</td>\n",
       "      <td>4.154106</td>\n",
       "      <td>27.555184</td>\n",
       "      <td>61.719016</td>\n",
       "      <td>2.208808</td>\n",
       "      <td>3.662680</td>\n",
       "      <td>1</td>\n",
       "    </tr>\n",
       "    <tr>\n",
       "      <th>15</th>\n",
       "      <td>120.554688</td>\n",
       "      <td>45.549905</td>\n",
       "      <td>0.282924</td>\n",
       "      <td>0.419909</td>\n",
       "      <td>1.358696</td>\n",
       "      <td>13.079034</td>\n",
       "      <td>13.312141</td>\n",
       "      <td>212.597029</td>\n",
       "      <td>1</td>\n",
       "    </tr>\n",
       "    <tr>\n",
       "      <th>21</th>\n",
       "      <td>27.765625</td>\n",
       "      <td>28.666042</td>\n",
       "      <td>5.770087</td>\n",
       "      <td>37.419009</td>\n",
       "      <td>73.112876</td>\n",
       "      <td>62.070220</td>\n",
       "      <td>1.268206</td>\n",
       "      <td>1.082920</td>\n",
       "      <td>1</td>\n",
       "    </tr>\n",
       "    <tr>\n",
       "      <th>71</th>\n",
       "      <td>88.437500</td>\n",
       "      <td>37.811777</td>\n",
       "      <td>0.689216</td>\n",
       "      <td>2.035294</td>\n",
       "      <td>2.415552</td>\n",
       "      <td>18.027953</td>\n",
       "      <td>8.828613</td>\n",
       "      <td>86.799894</td>\n",
       "      <td>1</td>\n",
       "    </tr>\n",
       "    <tr>\n",
       "      <th>99</th>\n",
       "      <td>67.664062</td>\n",
       "      <td>32.561787</td>\n",
       "      <td>2.028000</td>\n",
       "      <td>8.098344</td>\n",
       "      <td>8.266722</td>\n",
       "      <td>34.838902</td>\n",
       "      <td>4.793382</td>\n",
       "      <td>24.032048</td>\n",
       "      <td>1</td>\n",
       "    </tr>\n",
       "    <tr>\n",
       "      <th>...</th>\n",
       "      <td>...</td>\n",
       "      <td>...</td>\n",
       "      <td>...</td>\n",
       "      <td>...</td>\n",
       "      <td>...</td>\n",
       "      <td>...</td>\n",
       "      <td>...</td>\n",
       "      <td>...</td>\n",
       "      <td>...</td>\n",
       "    </tr>\n",
       "    <tr>\n",
       "      <th>4991</th>\n",
       "      <td>84.054688</td>\n",
       "      <td>51.992083</td>\n",
       "      <td>0.818566</td>\n",
       "      <td>0.037858</td>\n",
       "      <td>158.000836</td>\n",
       "      <td>95.239274</td>\n",
       "      <td>-0.799085</td>\n",
       "      <td>-1.044223</td>\n",
       "      <td>1</td>\n",
       "    </tr>\n",
       "    <tr>\n",
       "      <th>5027</th>\n",
       "      <td>112.304688</td>\n",
       "      <td>47.301486</td>\n",
       "      <td>0.459260</td>\n",
       "      <td>0.140741</td>\n",
       "      <td>60.255017</td>\n",
       "      <td>88.667228</td>\n",
       "      <td>1.075925</td>\n",
       "      <td>-0.437491</td>\n",
       "      <td>1</td>\n",
       "    </tr>\n",
       "    <tr>\n",
       "      <th>5059</th>\n",
       "      <td>28.429688</td>\n",
       "      <td>33.728160</td>\n",
       "      <td>5.307002</td>\n",
       "      <td>30.672768</td>\n",
       "      <td>139.592809</td>\n",
       "      <td>80.982722</td>\n",
       "      <td>-0.239600</td>\n",
       "      <td>-1.289076</td>\n",
       "      <td>1</td>\n",
       "    </tr>\n",
       "    <tr>\n",
       "      <th>5082</th>\n",
       "      <td>100.609375</td>\n",
       "      <td>40.361692</td>\n",
       "      <td>0.423364</td>\n",
       "      <td>1.259803</td>\n",
       "      <td>0.722408</td>\n",
       "      <td>9.549109</td>\n",
       "      <td>19.074994</td>\n",
       "      <td>446.069919</td>\n",
       "      <td>1</td>\n",
       "    </tr>\n",
       "    <tr>\n",
       "      <th>5138</th>\n",
       "      <td>27.039062</td>\n",
       "      <td>33.754722</td>\n",
       "      <td>4.779124</td>\n",
       "      <td>26.255357</td>\n",
       "      <td>129.863712</td>\n",
       "      <td>78.815440</td>\n",
       "      <td>-0.348492</td>\n",
       "      <td>-0.893791</td>\n",
       "      <td>1</td>\n",
       "    </tr>\n",
       "  </tbody>\n",
       "</table>\n",
       "<p>473 rows × 9 columns</p>\n",
       "</div>"
      ],
      "text/plain": [
       "      Mean of the integrated profile  ...  target_class\n",
       "6                          99.367188  ...             1\n",
       "15                        120.554688  ...             1\n",
       "21                         27.765625  ...             1\n",
       "71                         88.437500  ...             1\n",
       "99                         67.664062  ...             1\n",
       "...                              ...  ...           ...\n",
       "4991                       84.054688  ...             1\n",
       "5027                      112.304688  ...             1\n",
       "5059                       28.429688  ...             1\n",
       "5082                      100.609375  ...             1\n",
       "5138                       27.039062  ...             1\n",
       "\n",
       "[473 rows x 9 columns]"
      ]
     },
     "execution_count": 11,
     "metadata": {
      "tags": []
     },
     "output_type": "execute_result"
    }
   ],
   "source": [
    "test.loc[test['target_class'] == 1]"
   ]
  },
  {
   "cell_type": "code",
   "execution_count": 12,
   "metadata": {
    "colab": {
     "base_uri": "https://localhost:8080/",
     "height": 441
    },
    "id": "PaMBjB9oAFTB",
    "outputId": "79a90179-4d9f-4856-c455-a8d081a0efea"
   },
   "outputs": [
    {
     "data": {
      "text/html": [
       "<div>\n",
       "<style scoped>\n",
       "    .dataframe tbody tr th:only-of-type {\n",
       "        vertical-align: middle;\n",
       "    }\n",
       "\n",
       "    .dataframe tbody tr th {\n",
       "        vertical-align: top;\n",
       "    }\n",
       "\n",
       "    .dataframe thead th {\n",
       "        text-align: right;\n",
       "    }\n",
       "</style>\n",
       "<table border=\"1\" class=\"dataframe\">\n",
       "  <thead>\n",
       "    <tr style=\"text-align: right;\">\n",
       "      <th></th>\n",
       "      <th>Mean of the integrated profile</th>\n",
       "      <th>Standard deviation of the integrated profile</th>\n",
       "      <th>Excess kurtosis of the integrated profile</th>\n",
       "      <th>Skewness of the integrated profile</th>\n",
       "      <th>Mean of the DM-SNR curve</th>\n",
       "      <th>Standard deviation of the DM-SNR curve</th>\n",
       "      <th>Excess kurtosis of the DM-SNR curve</th>\n",
       "      <th>Skewness of the DM-SNR curve</th>\n",
       "      <th>target_class</th>\n",
       "    </tr>\n",
       "  </thead>\n",
       "  <tbody>\n",
       "    <tr>\n",
       "      <th>0</th>\n",
       "      <td>140.562500</td>\n",
       "      <td>55.683782</td>\n",
       "      <td>-0.234571</td>\n",
       "      <td>-0.699648</td>\n",
       "      <td>3.199833</td>\n",
       "      <td>19.110426</td>\n",
       "      <td>7.975532</td>\n",
       "      <td>74.242225</td>\n",
       "      <td>0</td>\n",
       "    </tr>\n",
       "    <tr>\n",
       "      <th>1</th>\n",
       "      <td>136.750000</td>\n",
       "      <td>57.178449</td>\n",
       "      <td>-0.068415</td>\n",
       "      <td>-0.636238</td>\n",
       "      <td>3.642977</td>\n",
       "      <td>20.959280</td>\n",
       "      <td>6.896499</td>\n",
       "      <td>53.593661</td>\n",
       "      <td>0</td>\n",
       "    </tr>\n",
       "    <tr>\n",
       "      <th>2</th>\n",
       "      <td>93.570312</td>\n",
       "      <td>46.698114</td>\n",
       "      <td>0.531905</td>\n",
       "      <td>0.416721</td>\n",
       "      <td>1.636288</td>\n",
       "      <td>14.545074</td>\n",
       "      <td>10.621748</td>\n",
       "      <td>131.394004</td>\n",
       "      <td>0</td>\n",
       "    </tr>\n",
       "    <tr>\n",
       "      <th>3</th>\n",
       "      <td>107.250000</td>\n",
       "      <td>52.627078</td>\n",
       "      <td>0.452688</td>\n",
       "      <td>0.170347</td>\n",
       "      <td>2.331940</td>\n",
       "      <td>14.486853</td>\n",
       "      <td>9.001004</td>\n",
       "      <td>107.972506</td>\n",
       "      <td>0</td>\n",
       "    </tr>\n",
       "    <tr>\n",
       "      <th>4</th>\n",
       "      <td>138.179688</td>\n",
       "      <td>51.524484</td>\n",
       "      <td>-0.031852</td>\n",
       "      <td>0.046797</td>\n",
       "      <td>6.330268</td>\n",
       "      <td>31.576347</td>\n",
       "      <td>5.155940</td>\n",
       "      <td>26.143310</td>\n",
       "      <td>0</td>\n",
       "    </tr>\n",
       "    <tr>\n",
       "      <th>...</th>\n",
       "      <td>...</td>\n",
       "      <td>...</td>\n",
       "      <td>...</td>\n",
       "      <td>...</td>\n",
       "      <td>...</td>\n",
       "      <td>...</td>\n",
       "      <td>...</td>\n",
       "      <td>...</td>\n",
       "      <td>...</td>\n",
       "    </tr>\n",
       "    <tr>\n",
       "      <th>512</th>\n",
       "      <td>156.906250</td>\n",
       "      <td>49.428047</td>\n",
       "      <td>-0.542790</td>\n",
       "      <td>0.714028</td>\n",
       "      <td>1.918896</td>\n",
       "      <td>18.097403</td>\n",
       "      <td>10.377284</td>\n",
       "      <td>113.175349</td>\n",
       "      <td>0</td>\n",
       "    </tr>\n",
       "    <tr>\n",
       "      <th>513</th>\n",
       "      <td>122.203125</td>\n",
       "      <td>52.219692</td>\n",
       "      <td>0.068364</td>\n",
       "      <td>-0.451483</td>\n",
       "      <td>2.438127</td>\n",
       "      <td>15.855335</td>\n",
       "      <td>9.187423</td>\n",
       "      <td>101.925599</td>\n",
       "      <td>0</td>\n",
       "    </tr>\n",
       "    <tr>\n",
       "      <th>514</th>\n",
       "      <td>106.929688</td>\n",
       "      <td>38.954538</td>\n",
       "      <td>0.047006</td>\n",
       "      <td>0.851954</td>\n",
       "      <td>3.684783</td>\n",
       "      <td>25.070439</td>\n",
       "      <td>7.143708</td>\n",
       "      <td>51.643437</td>\n",
       "      <td>0</td>\n",
       "    </tr>\n",
       "    <tr>\n",
       "      <th>515</th>\n",
       "      <td>116.578125</td>\n",
       "      <td>35.875350</td>\n",
       "      <td>0.320335</td>\n",
       "      <td>1.795522</td>\n",
       "      <td>11.260033</td>\n",
       "      <td>40.544395</td>\n",
       "      <td>3.869451</td>\n",
       "      <td>14.749566</td>\n",
       "      <td>0</td>\n",
       "    </tr>\n",
       "    <tr>\n",
       "      <th>516</th>\n",
       "      <td>127.281250</td>\n",
       "      <td>49.992021</td>\n",
       "      <td>0.238959</td>\n",
       "      <td>-0.008764</td>\n",
       "      <td>2.788462</td>\n",
       "      <td>15.443918</td>\n",
       "      <td>8.082821</td>\n",
       "      <td>86.816940</td>\n",
       "      <td>0</td>\n",
       "    </tr>\n",
       "  </tbody>\n",
       "</table>\n",
       "<p>473 rows × 9 columns</p>\n",
       "</div>"
      ],
      "text/plain": [
       "     Mean of the integrated profile  ...  target_class\n",
       "0                        140.562500  ...             0\n",
       "1                        136.750000  ...             0\n",
       "2                         93.570312  ...             0\n",
       "3                        107.250000  ...             0\n",
       "4                        138.179688  ...             0\n",
       "..                              ...  ...           ...\n",
       "512                      156.906250  ...             0\n",
       "513                      122.203125  ...             0\n",
       "514                      106.929688  ...             0\n",
       "515                      116.578125  ...             0\n",
       "516                      127.281250  ...             0\n",
       "\n",
       "[473 rows x 9 columns]"
      ]
     },
     "execution_count": 12,
     "metadata": {
      "tags": []
     },
     "output_type": "execute_result"
    }
   ],
   "source": [
    "test.loc[test['target_class'] == 0][0:473]"
   ]
  },
  {
   "cell_type": "code",
   "execution_count": 13,
   "metadata": {
    "id": "pPJU459nA-09"
   },
   "outputs": [],
   "source": [
    "from sklearn.utils import shuffle\n",
    "\n",
    "test_balanced = pd.concat([test.loc[test['target_class'] == 1],test.loc[test['target_class'] == 0][0:473]])\n",
    "test_balanced = shuffle(test_balanced)"
   ]
  },
  {
   "cell_type": "code",
   "execution_count": 14,
   "metadata": {
    "id": "LzE74uaxBYkq"
   },
   "outputs": [],
   "source": [
    "x_test_balanced = np.array(test_balanced.drop(\"target_class\" , axis = 1))\n",
    "y_test_balanced = np.array(test_balanced[\"target_class\"])"
   ]
  },
  {
   "cell_type": "code",
   "execution_count": 15,
   "metadata": {
    "colab": {
     "base_uri": "https://localhost:8080/"
    },
    "id": "RXj1FjcdCcuz",
    "outputId": "b0984324-8a6f-40d7-8d2f-3086d2a92041"
   },
   "outputs": [
    {
     "name": "stdout",
     "output_type": "stream",
     "text": [
      "30/30 [==============================] - 0s 2ms/step - loss: 0.3459 - accuracy: 0.9101\n"
     ]
    },
    {
     "data": {
      "text/plain": [
       "[0.3458591103553772, 0.9101479649543762]"
      ]
     },
     "execution_count": 15,
     "metadata": {
      "tags": []
     },
     "output_type": "execute_result"
    }
   ],
   "source": [
    "model.evaluate(x_test_balanced, y_test_balanced)"
   ]
  },
  {
   "cell_type": "markdown",
   "metadata": {
    "id": "9gDHU0_mHMXx"
   },
   "source": [
    "We can see now with the balanced set that the accuracy droped to 91%"
   ]
  },
  {
   "cell_type": "markdown",
   "metadata": {
    "id": "bXU3y5GkHiM4"
   },
   "source": [
    "## First Approach\n",
    "The naive approach to solve the problem will be to throw away the excess data. Ill use this as a baseline in order to evaluate the other approaches\n"
   ]
  },
  {
   "cell_type": "code",
   "execution_count": 16,
   "metadata": {
    "id": "LoTraDnWGz7c"
   },
   "outputs": [],
   "source": [
    "train_balanced = pd.concat([train.loc[train['target_class'] == 1],train.loc[train['target_class'] == 0][0:1166]])\n",
    "train_balanced = shuffle(train_balanced)"
   ]
  },
  {
   "cell_type": "code",
   "execution_count": 17,
   "metadata": {
    "id": "OwxR9--ppWy6"
   },
   "outputs": [],
   "source": [
    "x_train_balanced = np.array(train_balanced.drop(\"target_class\" , axis = 1))\n",
    "y_train_balanced = np.array(train_balanced[\"target_class\"])"
   ]
  },
  {
   "cell_type": "code",
   "execution_count": 18,
   "metadata": {
    "colab": {
     "base_uri": "https://localhost:8080/"
    },
    "id": "j4nWG2LLpYzU",
    "outputId": "ca2eb1e4-e867-4471-8235-6a54d4c92fbc"
   },
   "outputs": [
    {
     "name": "stdout",
     "output_type": "stream",
     "text": [
      "Model: \"sequential_1\"\n",
      "_________________________________________________________________\n",
      "Layer (type)                 Output Shape              Param #   \n",
      "=================================================================\n",
      "dense_4 (Dense)              (None, 100)               900       \n",
      "_________________________________________________________________\n",
      "dense_5 (Dense)              (None, 500)               50500     \n",
      "_________________________________________________________________\n",
      "dense_6 (Dense)              (None, 1000)              501000    \n",
      "_________________________________________________________________\n",
      "dense_7 (Dense)              (None, 1)                 1001      \n",
      "=================================================================\n",
      "Total params: 553,401\n",
      "Trainable params: 553,401\n",
      "Non-trainable params: 0\n",
      "_________________________________________________________________\n"
     ]
    }
   ],
   "source": [
    "model1 = Sequential()\n",
    "model1.add(Dense(100, activation = \"relu\", input_shape = x_train.shape[1:]))\n",
    "model1.add(Dense(500, activation = \"relu\"))\n",
    "model1.add(Dense(1000, activation = \"relu\"))\n",
    "model1.add(Dense(1, activation = \"sigmoid\"))\n",
    "\n",
    "model1.compile( loss = \"binary_crossentropy\", metrics = [\"accuracy\"] ,optimizer = 'adam' )\n",
    "\n",
    "model1.summary()\n"
   ]
  },
  {
   "cell_type": "code",
   "execution_count": 19,
   "metadata": {
    "colab": {
     "base_uri": "https://localhost:8080/"
    },
    "id": "loV8nmZnqhJA",
    "outputId": "c61625bc-23e3-4d40-eec3-7ea43f73365e"
   },
   "outputs": [
    {
     "name": "stdout",
     "output_type": "stream",
     "text": [
      "Epoch 1/10\n",
      "73/73 [==============================] - 1s 5ms/step - loss: 1.9815 - accuracy: 0.8147 - val_loss: 0.3252 - val_accuracy: 0.8911\n",
      "Epoch 2/10\n",
      "73/73 [==============================] - 0s 3ms/step - loss: 0.3581 - accuracy: 0.8995 - val_loss: 0.2297 - val_accuracy: 0.9313\n",
      "Epoch 3/10\n",
      "73/73 [==============================] - 0s 4ms/step - loss: 0.2121 - accuracy: 0.9286 - val_loss: 0.2487 - val_accuracy: 0.9059\n",
      "Epoch 4/10\n",
      "73/73 [==============================] - 0s 4ms/step - loss: 0.2114 - accuracy: 0.9177 - val_loss: 0.2185 - val_accuracy: 0.9345\n",
      "Epoch 5/10\n",
      "73/73 [==============================] - 0s 3ms/step - loss: 0.2171 - accuracy: 0.9177 - val_loss: 0.2081 - val_accuracy: 0.9281\n",
      "Epoch 6/10\n",
      "73/73 [==============================] - 0s 4ms/step - loss: 0.2060 - accuracy: 0.9208 - val_loss: 0.2284 - val_accuracy: 0.9302\n",
      "Epoch 7/10\n",
      "73/73 [==============================] - 0s 3ms/step - loss: 0.2069 - accuracy: 0.9374 - val_loss: 0.1937 - val_accuracy: 0.9366\n",
      "Epoch 8/10\n",
      "73/73 [==============================] - 0s 3ms/step - loss: 0.2047 - accuracy: 0.9185 - val_loss: 0.1862 - val_accuracy: 0.9334\n",
      "Epoch 9/10\n",
      "73/73 [==============================] - 0s 4ms/step - loss: 0.1968 - accuracy: 0.9209 - val_loss: 0.1959 - val_accuracy: 0.9323\n",
      "Epoch 10/10\n",
      "73/73 [==============================] - 0s 4ms/step - loss: 0.1834 - accuracy: 0.9349 - val_loss: 0.1879 - val_accuracy: 0.9397\n"
     ]
    }
   ],
   "source": [
    "history = model1.fit(x_train_balanced, y_train_balanced, epochs = 10, validation_data = (x_test_balanced, y_test_balanced))"
   ]
  },
  {
   "cell_type": "code",
   "execution_count": 20,
   "metadata": {
    "colab": {
     "base_uri": "https://localhost:8080/"
    },
    "id": "zneS2OJFqp-b",
    "outputId": "c06d85e8-aa45-45d8-fdd1-a3b5a65f4bbb"
   },
   "outputs": [
    {
     "name": "stdout",
     "output_type": "stream",
     "text": [
      "30/30 [==============================] - 0s 2ms/step - loss: 0.1879 - accuracy: 0.9397\n"
     ]
    },
    {
     "data": {
      "text/plain": [
       "[0.1878533661365509, 0.9397463202476501]"
      ]
     },
     "execution_count": 20,
     "metadata": {
      "tags": []
     },
     "output_type": "execute_result"
    }
   ],
   "source": [
    "model1.evaluate(x_test_balanced, y_test_balanced)"
   ]
  },
  {
   "cell_type": "markdown",
   "metadata": {
    "id": "Y9Nj93QMrPi_"
   },
   "source": [
    "This is already an increaase compared to the original. But this method is innefficient as it throws away usefull data"
   ]
  },
  {
   "cell_type": "markdown",
   "metadata": {
    "id": "EDYLNyztrYXn"
   },
   "source": [
    "## Second Aproach\n",
    "\n",
    "Given the large imbalance of data, I can try to weight the loss function in order to use the whole dataset. Keras has this functionality built in. First we need to find the correct weights"
   ]
  },
  {
   "cell_type": "code",
   "execution_count": 21,
   "metadata": {
    "colab": {
     "base_uri": "https://localhost:8080/"
    },
    "id": "SxchPe5MqztJ",
    "outputId": "146d83da-bc26-4477-c279-925e0986585d"
   },
   "outputs": [
    {
     "data": {
      "text/plain": [
       "(1.101594493334495, 10.843053173241852)"
      ]
     },
     "execution_count": 21,
     "metadata": {
      "tags": []
     },
     "output_type": "execute_result"
    }
   ],
   "source": [
    "w0 = train.shape[0]/train.loc[train['target_class'] == 0].shape[0]\n",
    "w1 = train.shape[0]/train.loc[train['target_class'] == 1].shape[0]\n",
    "w0,w1"
   ]
  },
  {
   "cell_type": "code",
   "execution_count": 22,
   "metadata": {
    "colab": {
     "base_uri": "https://localhost:8080/"
    },
    "id": "Qnja0S-BtX1C",
    "outputId": "22df30df-26f8-47e0-d152-db4c6c7890b7"
   },
   "outputs": [
    {
     "name": "stdout",
     "output_type": "stream",
     "text": [
      "Model: \"sequential_2\"\n",
      "_________________________________________________________________\n",
      "Layer (type)                 Output Shape              Param #   \n",
      "=================================================================\n",
      "dense_8 (Dense)              (None, 100)               900       \n",
      "_________________________________________________________________\n",
      "dense_9 (Dense)              (None, 500)               50500     \n",
      "_________________________________________________________________\n",
      "dense_10 (Dense)             (None, 1000)              501000    \n",
      "_________________________________________________________________\n",
      "dense_11 (Dense)             (None, 1)                 1001      \n",
      "=================================================================\n",
      "Total params: 553,401\n",
      "Trainable params: 553,401\n",
      "Non-trainable params: 0\n",
      "_________________________________________________________________\n"
     ]
    }
   ],
   "source": [
    "class_weight = {0: w0, 1: w1}\n",
    "\n",
    "model2 = Sequential()\n",
    "model2.add(Dense(100, activation = \"relu\", input_shape = x_train.shape[1:]))\n",
    "model2.add(Dense(500, activation = \"relu\"))\n",
    "model2.add(Dense(1000, activation = \"relu\"))\n",
    "model2.add(Dense(1, activation = \"sigmoid\"))\n",
    "\n",
    "model2.compile( loss = \"binary_crossentropy\", metrics = [\"accuracy\"] ,optimizer = 'adam')\n",
    "\n",
    "model2.summary()\n",
    "\n"
   ]
  },
  {
   "cell_type": "code",
   "execution_count": 23,
   "metadata": {
    "colab": {
     "base_uri": "https://localhost:8080/"
    },
    "id": "YWWDWxKQuXI7",
    "outputId": "3bbbda18-e150-4d01-9b00-2296b7972fd4"
   },
   "outputs": [
    {
     "name": "stdout",
     "output_type": "stream",
     "text": [
      "Epoch 1/10\n",
      "396/396 [==============================] - 2s 4ms/step - loss: 1.8971 - accuracy: 0.8779 - val_loss: 0.2078 - val_accuracy: 0.9363\n",
      "Epoch 2/10\n",
      "396/396 [==============================] - 1s 3ms/step - loss: 0.4702 - accuracy: 0.9423 - val_loss: 0.1743 - val_accuracy: 0.9404\n",
      "Epoch 3/10\n",
      "396/396 [==============================] - 1s 3ms/step - loss: 0.4419 - accuracy: 0.9507 - val_loss: 0.2178 - val_accuracy: 0.9283\n",
      "Epoch 4/10\n",
      "396/396 [==============================] - 1s 3ms/step - loss: 0.4480 - accuracy: 0.9477 - val_loss: 0.1639 - val_accuracy: 0.9539\n",
      "Epoch 5/10\n",
      "396/396 [==============================] - 1s 3ms/step - loss: 0.4736 - accuracy: 0.9415 - val_loss: 0.2116 - val_accuracy: 0.9418\n",
      "Epoch 6/10\n",
      "396/396 [==============================] - 1s 3ms/step - loss: 0.4361 - accuracy: 0.9424 - val_loss: 0.1261 - val_accuracy: 0.9629\n",
      "Epoch 7/10\n",
      "396/396 [==============================] - 1s 3ms/step - loss: 0.4123 - accuracy: 0.9513 - val_loss: 0.2020 - val_accuracy: 0.9534\n",
      "Epoch 8/10\n",
      "396/396 [==============================] - 1s 3ms/step - loss: 0.4168 - accuracy: 0.9535 - val_loss: 0.2410 - val_accuracy: 0.9595\n",
      "Epoch 9/10\n",
      "396/396 [==============================] - 1s 3ms/step - loss: 0.4254 - accuracy: 0.9519 - val_loss: 0.1302 - val_accuracy: 0.9665\n",
      "Epoch 10/10\n",
      "396/396 [==============================] - 1s 3ms/step - loss: 0.4162 - accuracy: 0.9556 - val_loss: 0.1377 - val_accuracy: 0.9568\n"
     ]
    }
   ],
   "source": [
    "history = model2.fit(x_train, y_train, epochs = 10, validation_data = (x_test, y_test), class_weight=class_weight ) # Adding the weights"
   ]
  },
  {
   "cell_type": "code",
   "execution_count": 24,
   "metadata": {
    "colab": {
     "base_uri": "https://localhost:8080/"
    },
    "id": "VeJDia6Ruhiz",
    "outputId": "06ea9e2f-f0db-43ec-efad-c463e71d0d9d"
   },
   "outputs": [
    {
     "name": "stdout",
     "output_type": "stream",
     "text": [
      "30/30 [==============================] - 0s 2ms/step - loss: 0.1979 - accuracy: 0.9387\n"
     ]
    },
    {
     "data": {
      "text/plain": [
       "[0.19786933064460754, 0.9386892318725586]"
      ]
     },
     "execution_count": 24,
     "metadata": {
      "tags": []
     },
     "output_type": "execute_result"
    }
   ],
   "source": [
    "model2.evaluate(x_test_balanced, y_test_balanced)"
   ]
  },
  {
   "cell_type": "markdown",
   "metadata": {
    "id": "zuThwrHduyXg"
   },
   "source": [
    "We can see a slight improvement over the baseline model, and a significant improvement over the original."
   ]
  },
  {
   "cell_type": "markdown",
   "metadata": {
    "id": "rqqz5AZIwe3_"
   },
   "source": [
    "# Third Aproach\n",
    "\n",
    "In this approach I will make enough copies of the minority class to equilize the imbalance and then train the model on this dataset. Given the fact that this dataset will have a lot of duplicates it will probably be prone to overfitting."
   ]
  },
  {
   "cell_type": "code",
   "execution_count": 25,
   "metadata": {
    "colab": {
     "base_uri": "https://localhost:8080/"
    },
    "id": "YuqJD9zxut9D",
    "outputId": "2f48b3f5-05be-4257-d62d-bf22c0bba3d9"
   },
   "outputs": [
    {
     "data": {
      "text/plain": [
       "((11477, 9), (11477, 9))"
      ]
     },
     "execution_count": 25,
     "metadata": {
      "tags": []
     },
     "output_type": "execute_result"
    }
   ],
   "source": [
    "train1 = np.array(train.loc[train['target_class'] == 1])\n",
    "train0 = np.array(train.loc[train['target_class'] == 0])\n",
    "\n",
    "id = np.arange(train1.shape[0])\n",
    "choices = np.random.choice(id, train0.shape[0])\n",
    "\n",
    "new_train1 = train1[choices]\n",
    "\n",
    "new_train1.shape, train0.shape\n",
    "\n"
   ]
  },
  {
   "cell_type": "code",
   "execution_count": 26,
   "metadata": {
    "colab": {
     "base_uri": "https://localhost:8080/"
    },
    "id": "lZnDjl2ExS85",
    "outputId": "66c6edd9-16dc-4145-adb4-24ee06892807"
   },
   "outputs": [
    {
     "data": {
      "text/plain": [
       "(22954, 9)"
      ]
     },
     "execution_count": 26,
     "metadata": {
      "tags": []
     },
     "output_type": "execute_result"
    }
   ],
   "source": [
    "new_train = np.concatenate([new_train1, train0], axis=0)\n",
    "new_train = shuffle(new_train)\n",
    "new_train.shape"
   ]
  },
  {
   "cell_type": "code",
   "execution_count": 27,
   "metadata": {
    "colab": {
     "base_uri": "https://localhost:8080/"
    },
    "id": "SNJwYVlqzoXn",
    "outputId": "ad189e65-3e7c-4b99-c8d9-2e4b75f43e10"
   },
   "outputs": [
    {
     "data": {
      "text/plain": [
       "((22954, 8), (22954,))"
      ]
     },
     "execution_count": 27,
     "metadata": {
      "tags": []
     },
     "output_type": "execute_result"
    }
   ],
   "source": [
    "x_train_new = np.delete(new_train,8,1)\n",
    "y_train_new = new_train[:,8]\n",
    "x_train_new.shape,y_train_new.shape"
   ]
  },
  {
   "cell_type": "code",
   "execution_count": 28,
   "metadata": {
    "colab": {
     "base_uri": "https://localhost:8080/"
    },
    "id": "oyMQllL_1hBl",
    "outputId": "daed328e-d74d-4e03-dcd9-6d22d4208b36"
   },
   "outputs": [
    {
     "name": "stdout",
     "output_type": "stream",
     "text": [
      "Model: \"sequential_3\"\n",
      "_________________________________________________________________\n",
      "Layer (type)                 Output Shape              Param #   \n",
      "=================================================================\n",
      "dense_12 (Dense)             (None, 100)               900       \n",
      "_________________________________________________________________\n",
      "dense_13 (Dense)             (None, 500)               50500     \n",
      "_________________________________________________________________\n",
      "dense_14 (Dense)             (None, 1000)              501000    \n",
      "_________________________________________________________________\n",
      "dense_15 (Dense)             (None, 1)                 1001      \n",
      "=================================================================\n",
      "Total params: 553,401\n",
      "Trainable params: 553,401\n",
      "Non-trainable params: 0\n",
      "_________________________________________________________________\n"
     ]
    }
   ],
   "source": [
    "model3 = Sequential()\n",
    "model3.add(Dense(100, activation = \"relu\", input_shape = x_train.shape[1:]))\n",
    "model3.add(Dense(500, activation = \"relu\"))\n",
    "model3.add(Dense(1000, activation = \"relu\"))\n",
    "model3.add(Dense(1, activation = \"sigmoid\"))\n",
    "\n",
    "model3.compile( loss = \"binary_crossentropy\", metrics = [\"accuracy\"] ,optimizer = 'adam')\n",
    "\n",
    "model3.summary()\n",
    "\n"
   ]
  },
  {
   "cell_type": "code",
   "execution_count": 29,
   "metadata": {
    "colab": {
     "base_uri": "https://localhost:8080/"
    },
    "id": "6o7urQ8t1r2N",
    "outputId": "100b74df-04f1-4cd7-cfe0-0cf7434f7236"
   },
   "outputs": [
    {
     "name": "stdout",
     "output_type": "stream",
     "text": [
      "Epoch 1/10\n",
      "718/718 [==============================] - 2s 3ms/step - loss: 0.6476 - accuracy: 0.8923 - val_loss: 0.1878 - val_accuracy: 0.9376\n",
      "Epoch 2/10\n",
      "718/718 [==============================] - 2s 2ms/step - loss: 0.2031 - accuracy: 0.9248 - val_loss: 0.2213 - val_accuracy: 0.9302\n",
      "Epoch 3/10\n",
      "718/718 [==============================] - 2s 2ms/step - loss: 0.1957 - accuracy: 0.9262 - val_loss: 0.1896 - val_accuracy: 0.9366\n",
      "Epoch 4/10\n",
      "718/718 [==============================] - 2s 2ms/step - loss: 0.1906 - accuracy: 0.9302 - val_loss: 0.1827 - val_accuracy: 0.9419\n",
      "Epoch 5/10\n",
      "718/718 [==============================] - 2s 2ms/step - loss: 0.1868 - accuracy: 0.9271 - val_loss: 0.1736 - val_accuracy: 0.9408\n",
      "Epoch 6/10\n",
      "718/718 [==============================] - 2s 3ms/step - loss: 0.1801 - accuracy: 0.9324 - val_loss: 0.1781 - val_accuracy: 0.9387\n",
      "Epoch 7/10\n",
      "718/718 [==============================] - 2s 2ms/step - loss: 0.1777 - accuracy: 0.9317 - val_loss: 0.1755 - val_accuracy: 0.9419\n",
      "Epoch 8/10\n",
      "718/718 [==============================] - 2s 2ms/step - loss: 0.1850 - accuracy: 0.9303 - val_loss: 0.1984 - val_accuracy: 0.9355\n",
      "Epoch 9/10\n",
      "718/718 [==============================] - 2s 2ms/step - loss: 0.1717 - accuracy: 0.9360 - val_loss: 0.2079 - val_accuracy: 0.9376\n",
      "Epoch 10/10\n",
      "718/718 [==============================] - 2s 2ms/step - loss: 0.1715 - accuracy: 0.9348 - val_loss: 0.1873 - val_accuracy: 0.9366\n"
     ]
    }
   ],
   "source": [
    "history = model3.fit(x_train_new, y_train_new, epochs = 10, validation_data = (x_test_balanced, y_test_balanced) ) "
   ]
  },
  {
   "cell_type": "code",
   "execution_count": 30,
   "metadata": {
    "colab": {
     "base_uri": "https://localhost:8080/"
    },
    "id": "0UynyX2J3tP1",
    "outputId": "fb7186da-5180-40ba-cdb2-8828211826b6"
   },
   "outputs": [
    {
     "name": "stdout",
     "output_type": "stream",
     "text": [
      "30/30 [==============================] - 0s 2ms/step - loss: 0.1873 - accuracy: 0.9366\n"
     ]
    },
    {
     "data": {
      "text/plain": [
       "[0.1873386800289154, 0.9365750551223755]"
      ]
     },
     "execution_count": 30,
     "metadata": {
      "tags": []
     },
     "output_type": "execute_result"
    }
   ],
   "source": [
    "model3.evaluate(x_test_balanced, y_test_balanced)"
   ]
  },
  {
   "cell_type": "code",
   "execution_count": 31,
   "metadata": {
    "colab": {
     "base_uri": "https://localhost:8080/",
     "height": 535
    },
    "id": "xkva2WkD4XAN",
    "outputId": "f88fc8f2-6648-4ee1-dc80-2c502a34107f"
   },
   "outputs": [
    {
     "data": {
      "image/png": "[encoded data removed]",
      "text/plain": [
       "<Figure size 864x576 with 1 Axes>"
      ]
     },
     "metadata": {
      "needs_background": "light",
      "tags": []
     },
     "output_type": "display_data"
    }
   ],
   "source": [
    "import matplotlib.pyplot as plt\n",
    "plt.rcParams.update({'font.size': 18}) # Set the font size of the labels in the plot.\n",
    "\n",
    "fig = plt.figure( figsize = (12,8) )\n",
    "\n",
    "plt.title( \"Training process\" )\n",
    "plt.plot( history.history[\"loss\"],     \"r-\", label = \"Loss\")\n",
    "plt.plot( history.history[\"val_loss\"], \"b-\", label = \"val_loss\")\n",
    "\n",
    "plt.ylabel(\"Error (log scale)\")\n",
    "plt.xlabel(\"Epochs\")\n",
    "\n",
    "# Use log scale for the y-axis.\n",
    "plt.yscale(\"log\")\n",
    "\n",
    "plt.grid()\n",
    "plt.legend()\n",
    "plt.show()"
   ]
  },
  {
   "cell_type": "markdown",
   "metadata": {
    "id": "GHNC7sYJ5VVn"
   },
   "source": [
    "Again an improvement over the first model"
   ]
  },
  {
   "cell_type": "markdown",
   "metadata": {
    "id": "zX5nhkoZ5YlZ"
   },
   "source": [
    "# Finetuning\n",
    "I think the weighted model works best, so ill try to finetune that one. Due to the imbalanced dataset I need to pick a large enough batch size to include enough samples from both classes. Additionally, i will try to normalize the data."
   ]
  },
  {
   "cell_type": "code",
   "execution_count": 33,
   "metadata": {
    "id": "UxzgZ2KWJXWk"
   },
   "outputs": [],
   "source": [
    " from sklearn.model_selection import train_test_split\n",
    "\n",
    " x_val_balanced, x_test_balanced, y_val_balanced, y_test_balanced = train_test_split(x_test_balanced, y_test_balanced, test_size=0.5, random_state=42)\n"
   ]
  },
  {
   "cell_type": "code",
   "execution_count": 34,
   "metadata": {
    "id": "TSdsumJdB1I3"
   },
   "outputs": [],
   "source": [
    "from sklearn.preprocessing import StandardScaler\n",
    "\n",
    "scaler = StandardScaler()\n",
    "x_train_scaled = scaler.fit_transform(x_train)\n",
    "x_val_balanced_scaled = scaler.transform(x_val_balanced)\n",
    "x_test_scaled = scaler.transform(x_test)\n",
    "x_test_balanced_scaled = scaler.transform(x_test_balanced)"
   ]
  },
  {
   "cell_type": "code",
   "execution_count": 35,
   "metadata": {
    "colab": {
     "base_uri": "https://localhost:8080/"
    },
    "id": "tAiNIxG85STY",
    "outputId": "f3ffd2df-e028-4b76-cad3-761e962e113b"
   },
   "outputs": [
    {
     "name": "stdout",
     "output_type": "stream",
     "text": [
      "Model: \"sequential_4\"\n",
      "_________________________________________________________________\n",
      "Layer (type)                 Output Shape              Param #   \n",
      "=================================================================\n",
      "dense_16 (Dense)             (None, 100)               900       \n",
      "_________________________________________________________________\n",
      "dense_17 (Dense)             (None, 1000)              101000    \n",
      "_________________________________________________________________\n",
      "dense_18 (Dense)             (None, 1000)              1001000   \n",
      "_________________________________________________________________\n",
      "dense_19 (Dense)             (None, 1)                 1001      \n",
      "=================================================================\n",
      "Total params: 1,103,901\n",
      "Trainable params: 1,103,901\n",
      "Non-trainable params: 0\n",
      "_________________________________________________________________\n"
     ]
    }
   ],
   "source": [
    "from tensorflow.keras.layers import Dropout\n",
    "from tensorflow.keras.callbacks import EarlyStopping\n",
    "\n",
    "class_weight = {0: w0/100, 1: w1/100} # normalizing the weights to keep the loss function small\n",
    "\n",
    "\n",
    "model4 = Sequential()\n",
    "model4.add(Dense(100, activation = \"relu\", input_shape = x_train.shape[1:]))\n",
    "#model.add(Dropout(0.70)) \n",
    "model4.add(Dense(1000, activation = \"relu\"))\n",
    "#model.add(Dropout(0.80)) \n",
    "model4.add(Dense(1000, activation = \"relu\"))\n",
    "#model.add(Dropout(0.90)) \n",
    "model4.add(Dense(1, activation = \"sigmoid\"))\n",
    "\n",
    "early_stopping = EarlyStopping(patience = 10, restore_best_weights = True)\n",
    "model4.compile( loss = \"binary_crossentropy\", metrics = [\"accuracy\"] ,optimizer = 'adam')\n",
    "\n",
    "\n",
    "model4.summary()\n"
   ]
  },
  {
   "cell_type": "code",
   "execution_count": 36,
   "metadata": {
    "colab": {
     "base_uri": "https://localhost:8080/"
    },
    "id": "zet-ohGp42T-",
    "outputId": "66063f7f-a509-4a9e-9ee9-62185c75dc80"
   },
   "outputs": [
    {
     "name": "stdout",
     "output_type": "stream",
     "text": [
      "Epoch 1/100\n",
      "198/198 [==============================] - 1s 4ms/step - loss: 0.0048 - accuracy: 0.9050 - val_loss: 0.1540 - val_accuracy: 0.9514\n",
      "Epoch 2/100\n",
      "198/198 [==============================] - 1s 3ms/step - loss: 0.0036 - accuracy: 0.9636 - val_loss: 0.1560 - val_accuracy: 0.9535\n",
      "Epoch 3/100\n",
      "198/198 [==============================] - 1s 3ms/step - loss: 0.0033 - accuracy: 0.9665 - val_loss: 0.1559 - val_accuracy: 0.9598\n",
      "Epoch 4/100\n",
      "198/198 [==============================] - 1s 3ms/step - loss: 0.0030 - accuracy: 0.9646 - val_loss: 0.1585 - val_accuracy: 0.9598\n",
      "Epoch 5/100\n",
      "198/198 [==============================] - 1s 3ms/step - loss: 0.0032 - accuracy: 0.9647 - val_loss: 0.1479 - val_accuracy: 0.9535\n",
      "Epoch 6/100\n",
      "198/198 [==============================] - 1s 3ms/step - loss: 0.0032 - accuracy: 0.9648 - val_loss: 0.1461 - val_accuracy: 0.9598\n",
      "Epoch 7/100\n",
      "198/198 [==============================] - 1s 3ms/step - loss: 0.0030 - accuracy: 0.9664 - val_loss: 0.1391 - val_accuracy: 0.9619\n",
      "Epoch 8/100\n",
      "198/198 [==============================] - 1s 3ms/step - loss: 0.0031 - accuracy: 0.9640 - val_loss: 0.1452 - val_accuracy: 0.9556\n",
      "Epoch 9/100\n",
      "198/198 [==============================] - 1s 3ms/step - loss: 0.0032 - accuracy: 0.9636 - val_loss: 0.1440 - val_accuracy: 0.9598\n",
      "Epoch 10/100\n",
      "198/198 [==============================] - 1s 3ms/step - loss: 0.0030 - accuracy: 0.9657 - val_loss: 0.1467 - val_accuracy: 0.9598\n",
      "Epoch 11/100\n",
      "198/198 [==============================] - 1s 3ms/step - loss: 0.0029 - accuracy: 0.9639 - val_loss: 0.1354 - val_accuracy: 0.9619\n",
      "Epoch 12/100\n",
      "198/198 [==============================] - 1s 3ms/step - loss: 0.0027 - accuracy: 0.9701 - val_loss: 0.1451 - val_accuracy: 0.9577\n",
      "Epoch 13/100\n",
      "198/198 [==============================] - 1s 3ms/step - loss: 0.0028 - accuracy: 0.9666 - val_loss: 0.1412 - val_accuracy: 0.9619\n",
      "Epoch 14/100\n",
      "198/198 [==============================] - 1s 3ms/step - loss: 0.0029 - accuracy: 0.9676 - val_loss: 0.1431 - val_accuracy: 0.9598\n",
      "Epoch 15/100\n",
      "198/198 [==============================] - 1s 3ms/step - loss: 0.0029 - accuracy: 0.9715 - val_loss: 0.1439 - val_accuracy: 0.9641\n",
      "Epoch 16/100\n",
      "198/198 [==============================] - 1s 3ms/step - loss: 0.0029 - accuracy: 0.9640 - val_loss: 0.1445 - val_accuracy: 0.9577\n",
      "Epoch 17/100\n",
      "198/198 [==============================] - 1s 3ms/step - loss: 0.0026 - accuracy: 0.9708 - val_loss: 0.1492 - val_accuracy: 0.9556\n",
      "Epoch 18/100\n",
      "198/198 [==============================] - 1s 3ms/step - loss: 0.0026 - accuracy: 0.9682 - val_loss: 0.1554 - val_accuracy: 0.9535\n",
      "Epoch 19/100\n",
      "198/198 [==============================] - 1s 3ms/step - loss: 0.0026 - accuracy: 0.9691 - val_loss: 0.1514 - val_accuracy: 0.9577\n",
      "Epoch 20/100\n",
      "198/198 [==============================] - 1s 3ms/step - loss: 0.0028 - accuracy: 0.9691 - val_loss: 0.1723 - val_accuracy: 0.9535\n",
      "Epoch 21/100\n",
      "198/198 [==============================] - 1s 3ms/step - loss: 0.0028 - accuracy: 0.9698 - val_loss: 0.1495 - val_accuracy: 0.9535\n"
     ]
    }
   ],
   "source": [
    "history = model4.fit(x_train_scaled, y_train, epochs = 100, validation_data = (x_val_balanced_scaled, y_val_balanced), class_weight=class_weight, callbacks = [early_stopping], batch_size= 64) # Adding the weights"
   ]
  },
  {
   "cell_type": "code",
   "execution_count": 37,
   "metadata": {
    "colab": {
     "base_uri": "https://localhost:8080/",
     "height": 535
    },
    "id": "Ei-WqCZD6HvX",
    "outputId": "71cd3c83-6646-4dd1-85c1-04a433d72eb0"
   },
   "outputs": [
    {
     "data": {
      "image/png": "[encoded data removed]",
      "text/plain": [
       "<Figure size 864x576 with 1 Axes>"
      ]
     },
     "metadata": {
      "needs_background": "light",
      "tags": []
     },
     "output_type": "display_data"
    }
   ],
   "source": [
    "plt.rcParams.update({'font.size': 18}) # Set the font size of the labels in the plot.\n",
    "\n",
    "fig = plt.figure( figsize = (12,8) )\n",
    "\n",
    "plt.title( \"Training process\" )\n",
    "plt.plot( history.history[\"loss\"],     \"r-\", label = \"Loss\")\n",
    "plt.plot( history.history[\"val_loss\"], \"b-\", label = \"val_loss\")\n",
    "\n",
    "plt.ylabel(\"Error (log scale)\")\n",
    "plt.xlabel(\"Epochs\")\n",
    "\n",
    "# Use log scale for the y-axis.\n",
    "plt.yscale(\"log\")\n",
    "\n",
    "plt.grid()\n",
    "plt.legend()\n",
    "plt.show()"
   ]
  },
  {
   "cell_type": "code",
   "execution_count": 38,
   "metadata": {
    "colab": {
     "base_uri": "https://localhost:8080/"
    },
    "id": "zK6ypkIX5xUx",
    "outputId": "3014c344-372c-4499-e886-445bc0931922"
   },
   "outputs": [
    {
     "name": "stdout",
     "output_type": "stream",
     "text": [
      "15/15 [==============================] - 0s 2ms/step - loss: 0.1534 - accuracy: 0.9577\n"
     ]
    },
    {
     "data": {
      "text/plain": [
       "[0.15341801941394806, 0.957716703414917]"
      ]
     },
     "execution_count": 38,
     "metadata": {
      "tags": []
     },
     "output_type": "execute_result"
    }
   ],
   "source": [
    "model4.evaluate(x_test_balanced_scaled, y_test_balanced)"
   ]
  },
  {
   "cell_type": "code",
   "execution_count": 67,
   "metadata": {
    "colab": {
     "base_uri": "https://localhost:8080/"
    },
    "id": "QxSfcCPE502V",
    "outputId": "46c4c6ae-076f-4f07-da1c-20a680344dd8"
   },
   "outputs": [
    {
     "name": "stdout",
     "output_type": "stream",
     "text": [
      "165/165 [==============================] - 0s 2ms/step - loss: 0.1476 - accuracy: 0.9671\n"
     ]
    },
    {
     "data": {
      "text/plain": [
       "[0.14755675196647644, 0.9670789837837219]"
      ]
     },
     "execution_count": 67,
     "metadata": {
      "tags": []
     },
     "output_type": "execute_result"
    }
   ],
   "source": [
    "model4.evaluate(x_test_scaled, y_test)"
   ]
  },
  {
   "cell_type": "code",
   "execution_count": 68,
   "metadata": {
    "colab": {
     "base_uri": "https://localhost:8080/"
    },
    "id": "CgdxpftPBgA_",
    "outputId": "6303c51c-258d-4a2f-f472-b27de80fde09"
   },
   "outputs": [
    {
     "name": "stderr",
     "output_type": "stream",
     "text": [
      "/usr/local/lib/python3.7/dist-packages/tensorflow/python/keras/engine/sequential.py:450: UserWarning: `model.predict_classes()` is deprecated and will be removed after 2021-01-01. Please use instead:* `np.argmax(model.predict(x), axis=-1)`,   if your model does multi-class classification   (e.g. if it uses a `softmax` last-layer activation).* `(model.predict(x) > 0.5).astype(\"int32\")`,   if your model does binary classification   (e.g. if it uses a `sigmoid` last-layer activation).\n",
      "  warnings.warn('`model.predict_classes()` is deprecated and '\n"
     ]
    }
   ],
   "source": [
    "from sklearn.metrics import confusion_matrix\n",
    "import seaborn as sns\n",
    "matrix = confusion_matrix(y_test, model4.predict_classes(x_test_scaled))"
   ]
  },
  {
   "cell_type": "code",
   "execution_count": 69,
   "metadata": {
    "colab": {
     "base_uri": "https://localhost:8080/",
     "height": 590
    },
    "id": "KPMkBCyA6Ina",
    "outputId": "34b6f5c2-a834-407f-839d-a4504236fc85"
   },
   "outputs": [
    {
     "data": {
      "image/png": "[encoded data removed]",
      "text/plain": [
       "<Figure size 576x576 with 2 Axes>"
      ]
     },
     "metadata": {
      "needs_background": "light",
      "tags": []
     },
     "output_type": "display_data"
    }
   ],
   "source": [
    "figure = plt.figure(figsize=(8, 8))\n",
    "sns.heatmap(matrix, annot=True,cmap=plt.cm.Blues)\n",
    "plt.tight_layout()\n",
    "plt.ylabel('True label')\n",
    "plt.xlabel('Predicted label')\n",
    "plt.show()"
   ]
  },
  {
   "cell_type": "code",
   "execution_count": 69,
   "metadata": {
    "id": "zdaLWmlK7Ldl"
   },
   "outputs": [],
   "source": []
  },
  {
   "cell_type": "code",
   "execution_count": 69,
   "metadata": {
    "id": "eCtQgnbB9J9C"
   },
   "outputs": [],
   "source": []
  },
  {
   "cell_type": "code",
   "execution_count": null,
   "metadata": {
    "id": "-k3IqI4B9WJE"
   },
   "outputs": [],
   "source": []
  }
 ],
 "metadata": {
  "accelerator": "GPU",
  "colab": {
   "name": "final ph4987.ipynb",
   "provenance": []
  },
  "kernelspec": {
   "display_name": "Python 3 (ipykernel)",
   "language": "python",
   "name": "python3"
  },
  "language_info": {
   "codemirror_mode": {
    "name": "ipython",
    "version": 3
   },
   "file_extension": ".py",
   "mimetype": "text/x-python",
   "name": "python",
   "nbconvert_exporter": "python",
   "pygments_lexer": "ipython3",
   "version": "3.10.4"
  }
 },
 "nbformat": 4,
 "nbformat_minor": 1
}
